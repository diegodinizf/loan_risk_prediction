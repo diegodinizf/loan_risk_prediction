{
 "cells": [
  {
   "cell_type": "markdown",
   "metadata": {},
   "source": [
    "# 0.0 Imports"
   ]
  },
  {
   "cell_type": "code",
   "execution_count": 1,
   "metadata": {},
   "outputs": [],
   "source": [
    "import pandas as pd\n",
    "import matplotlib.pyplot as plt\n",
    "import seaborn as sns\n",
    "import numpy as np"
   ]
  },
  {
   "cell_type": "markdown",
   "metadata": {},
   "source": [
    "## 0.1 Data Load"
   ]
  },
  {
   "cell_type": "code",
   "execution_count": 2,
   "metadata": {},
   "outputs": [],
   "source": [
    "df_raw_bureau = pd.read_csv('../../projeto/data_raw/bureau.csv')\n",
    "df_raw_bureau_balance = pd.read_csv('../../projeto/data_raw/bureau_balance.csv')"
   ]
  },
  {
   "cell_type": "code",
   "execution_count": 3,
   "metadata": {},
   "outputs": [],
   "source": [
    "df_train = pd.read_csv('../../projeto/data_raw/application_train.csv')"
   ]
  },
  {
   "cell_type": "code",
   "execution_count": 4,
   "metadata": {},
   "outputs": [],
   "source": [
    "df_description = pd.read_csv('../../projeto/data_raw/HomeCredit_columns_description.csv', encoding='latin1', index_col = 0)"
   ]
  },
  {
   "cell_type": "markdown",
   "metadata": {},
   "source": [
    "# 1.0 Data Description"
   ]
  },
  {
   "cell_type": "code",
   "execution_count": 5,
   "metadata": {},
   "outputs": [],
   "source": [
    "df1_bureau = df_raw_bureau.copy()\n",
    "df1_bureau_balance = df_raw_bureau_balance.copy()"
   ]
  },
  {
   "cell_type": "code",
   "execution_count": 6,
   "metadata": {},
   "outputs": [
    {
     "data": {
      "text/html": [
       "<div>\n",
       "<style scoped>\n",
       "    .dataframe tbody tr th:only-of-type {\n",
       "        vertical-align: middle;\n",
       "    }\n",
       "\n",
       "    .dataframe tbody tr th {\n",
       "        vertical-align: top;\n",
       "    }\n",
       "\n",
       "    .dataframe thead th {\n",
       "        text-align: right;\n",
       "    }\n",
       "</style>\n",
       "<table border=\"1\" class=\"dataframe\">\n",
       "  <thead>\n",
       "    <tr style=\"text-align: right;\">\n",
       "      <th></th>\n",
       "      <th>0</th>\n",
       "      <th>1</th>\n",
       "      <th>2</th>\n",
       "      <th>3</th>\n",
       "      <th>4</th>\n",
       "    </tr>\n",
       "  </thead>\n",
       "  <tbody>\n",
       "    <tr>\n",
       "      <th>SK_ID_CURR</th>\n",
       "      <td>215354</td>\n",
       "      <td>215354</td>\n",
       "      <td>215354</td>\n",
       "      <td>215354</td>\n",
       "      <td>215354</td>\n",
       "    </tr>\n",
       "    <tr>\n",
       "      <th>SK_ID_BUREAU</th>\n",
       "      <td>5714462</td>\n",
       "      <td>5714463</td>\n",
       "      <td>5714464</td>\n",
       "      <td>5714465</td>\n",
       "      <td>5714466</td>\n",
       "    </tr>\n",
       "    <tr>\n",
       "      <th>CREDIT_ACTIVE</th>\n",
       "      <td>Closed</td>\n",
       "      <td>Active</td>\n",
       "      <td>Active</td>\n",
       "      <td>Active</td>\n",
       "      <td>Active</td>\n",
       "    </tr>\n",
       "    <tr>\n",
       "      <th>CREDIT_CURRENCY</th>\n",
       "      <td>currency 1</td>\n",
       "      <td>currency 1</td>\n",
       "      <td>currency 1</td>\n",
       "      <td>currency 1</td>\n",
       "      <td>currency 1</td>\n",
       "    </tr>\n",
       "    <tr>\n",
       "      <th>DAYS_CREDIT</th>\n",
       "      <td>-497</td>\n",
       "      <td>-208</td>\n",
       "      <td>-203</td>\n",
       "      <td>-203</td>\n",
       "      <td>-629</td>\n",
       "    </tr>\n",
       "    <tr>\n",
       "      <th>CREDIT_DAY_OVERDUE</th>\n",
       "      <td>0</td>\n",
       "      <td>0</td>\n",
       "      <td>0</td>\n",
       "      <td>0</td>\n",
       "      <td>0</td>\n",
       "    </tr>\n",
       "    <tr>\n",
       "      <th>DAYS_CREDIT_ENDDATE</th>\n",
       "      <td>-153.0</td>\n",
       "      <td>1075.0</td>\n",
       "      <td>528.0</td>\n",
       "      <td>NaN</td>\n",
       "      <td>1197.0</td>\n",
       "    </tr>\n",
       "    <tr>\n",
       "      <th>DAYS_ENDDATE_FACT</th>\n",
       "      <td>-153.0</td>\n",
       "      <td>NaN</td>\n",
       "      <td>NaN</td>\n",
       "      <td>NaN</td>\n",
       "      <td>NaN</td>\n",
       "    </tr>\n",
       "    <tr>\n",
       "      <th>AMT_CREDIT_MAX_OVERDUE</th>\n",
       "      <td>NaN</td>\n",
       "      <td>NaN</td>\n",
       "      <td>NaN</td>\n",
       "      <td>NaN</td>\n",
       "      <td>77674.5</td>\n",
       "    </tr>\n",
       "    <tr>\n",
       "      <th>CNT_CREDIT_PROLONG</th>\n",
       "      <td>0</td>\n",
       "      <td>0</td>\n",
       "      <td>0</td>\n",
       "      <td>0</td>\n",
       "      <td>0</td>\n",
       "    </tr>\n",
       "    <tr>\n",
       "      <th>AMT_CREDIT_SUM</th>\n",
       "      <td>91323.0</td>\n",
       "      <td>225000.0</td>\n",
       "      <td>464323.5</td>\n",
       "      <td>90000.0</td>\n",
       "      <td>2700000.0</td>\n",
       "    </tr>\n",
       "    <tr>\n",
       "      <th>AMT_CREDIT_SUM_DEBT</th>\n",
       "      <td>0.0</td>\n",
       "      <td>171342.0</td>\n",
       "      <td>NaN</td>\n",
       "      <td>NaN</td>\n",
       "      <td>NaN</td>\n",
       "    </tr>\n",
       "    <tr>\n",
       "      <th>AMT_CREDIT_SUM_LIMIT</th>\n",
       "      <td>NaN</td>\n",
       "      <td>NaN</td>\n",
       "      <td>NaN</td>\n",
       "      <td>NaN</td>\n",
       "      <td>NaN</td>\n",
       "    </tr>\n",
       "    <tr>\n",
       "      <th>AMT_CREDIT_SUM_OVERDUE</th>\n",
       "      <td>0.0</td>\n",
       "      <td>0.0</td>\n",
       "      <td>0.0</td>\n",
       "      <td>0.0</td>\n",
       "      <td>0.0</td>\n",
       "    </tr>\n",
       "    <tr>\n",
       "      <th>CREDIT_TYPE</th>\n",
       "      <td>Consumer credit</td>\n",
       "      <td>Credit card</td>\n",
       "      <td>Consumer credit</td>\n",
       "      <td>Credit card</td>\n",
       "      <td>Consumer credit</td>\n",
       "    </tr>\n",
       "    <tr>\n",
       "      <th>DAYS_CREDIT_UPDATE</th>\n",
       "      <td>-131</td>\n",
       "      <td>-20</td>\n",
       "      <td>-16</td>\n",
       "      <td>-16</td>\n",
       "      <td>-21</td>\n",
       "    </tr>\n",
       "    <tr>\n",
       "      <th>AMT_ANNUITY</th>\n",
       "      <td>NaN</td>\n",
       "      <td>NaN</td>\n",
       "      <td>NaN</td>\n",
       "      <td>NaN</td>\n",
       "      <td>NaN</td>\n",
       "    </tr>\n",
       "  </tbody>\n",
       "</table>\n",
       "</div>"
      ],
      "text/plain": [
       "                                      0            1                2  \\\n",
       "SK_ID_CURR                       215354       215354           215354   \n",
       "SK_ID_BUREAU                    5714462      5714463          5714464   \n",
       "CREDIT_ACTIVE                    Closed       Active           Active   \n",
       "CREDIT_CURRENCY              currency 1   currency 1       currency 1   \n",
       "DAYS_CREDIT                        -497         -208             -203   \n",
       "CREDIT_DAY_OVERDUE                    0            0                0   \n",
       "DAYS_CREDIT_ENDDATE              -153.0       1075.0            528.0   \n",
       "DAYS_ENDDATE_FACT                -153.0          NaN              NaN   \n",
       "AMT_CREDIT_MAX_OVERDUE              NaN          NaN              NaN   \n",
       "CNT_CREDIT_PROLONG                    0            0                0   \n",
       "AMT_CREDIT_SUM                  91323.0     225000.0         464323.5   \n",
       "AMT_CREDIT_SUM_DEBT                 0.0     171342.0              NaN   \n",
       "AMT_CREDIT_SUM_LIMIT                NaN          NaN              NaN   \n",
       "AMT_CREDIT_SUM_OVERDUE              0.0          0.0              0.0   \n",
       "CREDIT_TYPE             Consumer credit  Credit card  Consumer credit   \n",
       "DAYS_CREDIT_UPDATE                 -131          -20              -16   \n",
       "AMT_ANNUITY                         NaN          NaN              NaN   \n",
       "\n",
       "                                  3                4  \n",
       "SK_ID_CURR                   215354           215354  \n",
       "SK_ID_BUREAU                5714465          5714466  \n",
       "CREDIT_ACTIVE                Active           Active  \n",
       "CREDIT_CURRENCY          currency 1       currency 1  \n",
       "DAYS_CREDIT                    -203             -629  \n",
       "CREDIT_DAY_OVERDUE                0                0  \n",
       "DAYS_CREDIT_ENDDATE             NaN           1197.0  \n",
       "DAYS_ENDDATE_FACT               NaN              NaN  \n",
       "AMT_CREDIT_MAX_OVERDUE          NaN          77674.5  \n",
       "CNT_CREDIT_PROLONG                0                0  \n",
       "AMT_CREDIT_SUM              90000.0        2700000.0  \n",
       "AMT_CREDIT_SUM_DEBT             NaN              NaN  \n",
       "AMT_CREDIT_SUM_LIMIT            NaN              NaN  \n",
       "AMT_CREDIT_SUM_OVERDUE          0.0              0.0  \n",
       "CREDIT_TYPE             Credit card  Consumer credit  \n",
       "DAYS_CREDIT_UPDATE              -16              -21  \n",
       "AMT_ANNUITY                     NaN              NaN  "
      ]
     },
     "execution_count": 6,
     "metadata": {},
     "output_type": "execute_result"
    }
   ],
   "source": [
    "df1_bureau.head().T"
   ]
  },
  {
   "cell_type": "code",
   "execution_count": 7,
   "metadata": {},
   "outputs": [
    {
     "data": {
      "text/html": [
       "<div>\n",
       "<style scoped>\n",
       "    .dataframe tbody tr th:only-of-type {\n",
       "        vertical-align: middle;\n",
       "    }\n",
       "\n",
       "    .dataframe tbody tr th {\n",
       "        vertical-align: top;\n",
       "    }\n",
       "\n",
       "    .dataframe thead th {\n",
       "        text-align: right;\n",
       "    }\n",
       "</style>\n",
       "<table border=\"1\" class=\"dataframe\">\n",
       "  <thead>\n",
       "    <tr style=\"text-align: right;\">\n",
       "      <th></th>\n",
       "      <th>0</th>\n",
       "      <th>1</th>\n",
       "      <th>2</th>\n",
       "      <th>3</th>\n",
       "      <th>4</th>\n",
       "    </tr>\n",
       "  </thead>\n",
       "  <tbody>\n",
       "    <tr>\n",
       "      <th>SK_ID_BUREAU</th>\n",
       "      <td>5715448</td>\n",
       "      <td>5715448</td>\n",
       "      <td>5715448</td>\n",
       "      <td>5715448</td>\n",
       "      <td>5715448</td>\n",
       "    </tr>\n",
       "    <tr>\n",
       "      <th>MONTHS_BALANCE</th>\n",
       "      <td>0</td>\n",
       "      <td>-1</td>\n",
       "      <td>-2</td>\n",
       "      <td>-3</td>\n",
       "      <td>-4</td>\n",
       "    </tr>\n",
       "    <tr>\n",
       "      <th>STATUS</th>\n",
       "      <td>C</td>\n",
       "      <td>C</td>\n",
       "      <td>C</td>\n",
       "      <td>C</td>\n",
       "      <td>C</td>\n",
       "    </tr>\n",
       "  </tbody>\n",
       "</table>\n",
       "</div>"
      ],
      "text/plain": [
       "                      0        1        2        3        4\n",
       "SK_ID_BUREAU    5715448  5715448  5715448  5715448  5715448\n",
       "MONTHS_BALANCE        0       -1       -2       -3       -4\n",
       "STATUS                C        C        C        C        C"
      ]
     },
     "execution_count": 7,
     "metadata": {},
     "output_type": "execute_result"
    }
   ],
   "source": [
    "df1_bureau_balance.head().T"
   ]
  },
  {
   "cell_type": "markdown",
   "metadata": {},
   "source": [
    "## 1.1 Feature description"
   ]
  },
  {
   "cell_type": "code",
   "execution_count": 8,
   "metadata": {},
   "outputs": [
    {
     "data": {
      "text/html": [
       "<div>\n",
       "<style scoped>\n",
       "    .dataframe tbody tr th:only-of-type {\n",
       "        vertical-align: middle;\n",
       "    }\n",
       "\n",
       "    .dataframe tbody tr th {\n",
       "        vertical-align: top;\n",
       "    }\n",
       "\n",
       "    .dataframe thead th {\n",
       "        text-align: right;\n",
       "    }\n",
       "</style>\n",
       "<table border=\"1\" class=\"dataframe\">\n",
       "  <thead>\n",
       "    <tr style=\"text-align: right;\">\n",
       "      <th></th>\n",
       "      <th>Table</th>\n",
       "      <th>Row</th>\n",
       "      <th>Description</th>\n",
       "      <th>Special</th>\n",
       "    </tr>\n",
       "  </thead>\n",
       "  <tbody>\n",
       "    <tr>\n",
       "      <th>0</th>\n",
       "      <td>bureau.csv</td>\n",
       "      <td>SK_ID_CURR</td>\n",
       "      <td>ID of loan in our sample - one loan in our sample can have 0,1,2 or more related previous credits in credit bureau</td>\n",
       "      <td>hashed</td>\n",
       "    </tr>\n",
       "    <tr>\n",
       "      <th>1</th>\n",
       "      <td>bureau.csv</td>\n",
       "      <td>SK_BUREAU_ID</td>\n",
       "      <td>Recoded ID of previous Credit Bureau credit related to our loan (unique coding for each loan application)</td>\n",
       "      <td>hashed</td>\n",
       "    </tr>\n",
       "    <tr>\n",
       "      <th>2</th>\n",
       "      <td>bureau.csv</td>\n",
       "      <td>CREDIT_ACTIVE</td>\n",
       "      <td>Status of the Credit Bureau (CB) reported credits</td>\n",
       "      <td>NaN</td>\n",
       "    </tr>\n",
       "    <tr>\n",
       "      <th>3</th>\n",
       "      <td>bureau.csv</td>\n",
       "      <td>CREDIT_CURRENCY</td>\n",
       "      <td>Recoded currency of the Credit Bureau credit</td>\n",
       "      <td>recoded</td>\n",
       "    </tr>\n",
       "    <tr>\n",
       "      <th>4</th>\n",
       "      <td>bureau.csv</td>\n",
       "      <td>DAYS_CREDIT</td>\n",
       "      <td>How many days before current application did client apply for Credit Bureau credit</td>\n",
       "      <td>time only relative to the application</td>\n",
       "    </tr>\n",
       "    <tr>\n",
       "      <th>5</th>\n",
       "      <td>bureau.csv</td>\n",
       "      <td>CREDIT_DAY_OVERDUE</td>\n",
       "      <td>Number of days past due on CB credit at the time of application for related loan in our sample</td>\n",
       "      <td>NaN</td>\n",
       "    </tr>\n",
       "    <tr>\n",
       "      <th>6</th>\n",
       "      <td>bureau.csv</td>\n",
       "      <td>DAYS_CREDIT_ENDDATE</td>\n",
       "      <td>Remaining duration of CB credit (in days) at the time of application in Home Credit</td>\n",
       "      <td>time only relative to the application</td>\n",
       "    </tr>\n",
       "    <tr>\n",
       "      <th>7</th>\n",
       "      <td>bureau.csv</td>\n",
       "      <td>DAYS_ENDDATE_FACT</td>\n",
       "      <td>Days since CB credit ended at the time of application in Home Credit (only for closed credit)</td>\n",
       "      <td>time only relative to the application</td>\n",
       "    </tr>\n",
       "    <tr>\n",
       "      <th>8</th>\n",
       "      <td>bureau.csv</td>\n",
       "      <td>AMT_CREDIT_MAX_OVERDUE</td>\n",
       "      <td>Maximal amount overdue on the Credit Bureau credit so far (at application date of loan in our sample)</td>\n",
       "      <td>NaN</td>\n",
       "    </tr>\n",
       "    <tr>\n",
       "      <th>9</th>\n",
       "      <td>bureau.csv</td>\n",
       "      <td>CNT_CREDIT_PROLONG</td>\n",
       "      <td>How many times was the Credit Bureau credit prolonged</td>\n",
       "      <td>NaN</td>\n",
       "    </tr>\n",
       "    <tr>\n",
       "      <th>10</th>\n",
       "      <td>bureau.csv</td>\n",
       "      <td>AMT_CREDIT_SUM</td>\n",
       "      <td>Current credit amount for the Credit Bureau credit</td>\n",
       "      <td>NaN</td>\n",
       "    </tr>\n",
       "    <tr>\n",
       "      <th>11</th>\n",
       "      <td>bureau.csv</td>\n",
       "      <td>AMT_CREDIT_SUM_DEBT</td>\n",
       "      <td>Current debt on Credit Bureau credit</td>\n",
       "      <td>NaN</td>\n",
       "    </tr>\n",
       "    <tr>\n",
       "      <th>12</th>\n",
       "      <td>bureau.csv</td>\n",
       "      <td>AMT_CREDIT_SUM_LIMIT</td>\n",
       "      <td>Current credit limit of credit card reported in Credit Bureau</td>\n",
       "      <td>NaN</td>\n",
       "    </tr>\n",
       "    <tr>\n",
       "      <th>13</th>\n",
       "      <td>bureau.csv</td>\n",
       "      <td>AMT_CREDIT_SUM_OVERDUE</td>\n",
       "      <td>Current amount overdue on Credit Bureau credit</td>\n",
       "      <td>NaN</td>\n",
       "    </tr>\n",
       "    <tr>\n",
       "      <th>14</th>\n",
       "      <td>bureau.csv</td>\n",
       "      <td>CREDIT_TYPE</td>\n",
       "      <td>Type of Credit Bureau credit (Car, cash,...)</td>\n",
       "      <td>NaN</td>\n",
       "    </tr>\n",
       "    <tr>\n",
       "      <th>15</th>\n",
       "      <td>bureau.csv</td>\n",
       "      <td>DAYS_CREDIT_UPDATE</td>\n",
       "      <td>How many days before loan application did last information about the Credit Bureau credit come</td>\n",
       "      <td>time only relative to the application</td>\n",
       "    </tr>\n",
       "    <tr>\n",
       "      <th>16</th>\n",
       "      <td>bureau.csv</td>\n",
       "      <td>AMT_ANNUITY</td>\n",
       "      <td>Annuity of the Credit Bureau credit</td>\n",
       "      <td>NaN</td>\n",
       "    </tr>\n",
       "  </tbody>\n",
       "</table>\n",
       "</div>"
      ],
      "text/plain": [
       "         Table                     Row  \\\n",
       "0   bureau.csv              SK_ID_CURR   \n",
       "1   bureau.csv            SK_BUREAU_ID   \n",
       "2   bureau.csv           CREDIT_ACTIVE   \n",
       "3   bureau.csv         CREDIT_CURRENCY   \n",
       "4   bureau.csv             DAYS_CREDIT   \n",
       "5   bureau.csv      CREDIT_DAY_OVERDUE   \n",
       "6   bureau.csv     DAYS_CREDIT_ENDDATE   \n",
       "7   bureau.csv       DAYS_ENDDATE_FACT   \n",
       "8   bureau.csv  AMT_CREDIT_MAX_OVERDUE   \n",
       "9   bureau.csv      CNT_CREDIT_PROLONG   \n",
       "10  bureau.csv          AMT_CREDIT_SUM   \n",
       "11  bureau.csv     AMT_CREDIT_SUM_DEBT   \n",
       "12  bureau.csv    AMT_CREDIT_SUM_LIMIT   \n",
       "13  bureau.csv  AMT_CREDIT_SUM_OVERDUE   \n",
       "14  bureau.csv             CREDIT_TYPE   \n",
       "15  bureau.csv      DAYS_CREDIT_UPDATE   \n",
       "16  bureau.csv             AMT_ANNUITY   \n",
       "\n",
       "                                                                                                            Description  \\\n",
       "0   ID of loan in our sample - one loan in our sample can have 0,1,2 or more related previous credits in credit bureau    \n",
       "1             Recoded ID of previous Credit Bureau credit related to our loan (unique coding for each loan application)   \n",
       "2                                                                     Status of the Credit Bureau (CB) reported credits   \n",
       "3                                                                          Recoded currency of the Credit Bureau credit   \n",
       "4                                    How many days before current application did client apply for Credit Bureau credit   \n",
       "5                        Number of days past due on CB credit at the time of application for related loan in our sample   \n",
       "6                                   Remaining duration of CB credit (in days) at the time of application in Home Credit   \n",
       "7                         Days since CB credit ended at the time of application in Home Credit (only for closed credit)   \n",
       "8                 Maximal amount overdue on the Credit Bureau credit so far (at application date of loan in our sample)   \n",
       "9                                                                 How many times was the Credit Bureau credit prolonged   \n",
       "10                                                                   Current credit amount for the Credit Bureau credit   \n",
       "11                                                                                 Current debt on Credit Bureau credit   \n",
       "12                                                        Current credit limit of credit card reported in Credit Bureau   \n",
       "13                                                                       Current amount overdue on Credit Bureau credit   \n",
       "14                                                                         Type of Credit Bureau credit (Car, cash,...)   \n",
       "15                       How many days before loan application did last information about the Credit Bureau credit come   \n",
       "16                                                                                  Annuity of the Credit Bureau credit   \n",
       "\n",
       "                                  Special  \n",
       "0                                  hashed  \n",
       "1                                  hashed  \n",
       "2                                     NaN  \n",
       "3                                 recoded  \n",
       "4   time only relative to the application  \n",
       "5                                     NaN  \n",
       "6   time only relative to the application  \n",
       "7   time only relative to the application  \n",
       "8                                     NaN  \n",
       "9                                     NaN  \n",
       "10                                    NaN  \n",
       "11                                    NaN  \n",
       "12                                    NaN  \n",
       "13                                    NaN  \n",
       "14                                    NaN  \n",
       "15  time only relative to the application  \n",
       "16                                    NaN  "
      ]
     },
     "execution_count": 8,
     "metadata": {},
     "output_type": "execute_result"
    }
   ],
   "source": [
    "pd.set_option('display.max_colwidth', None)\n",
    "df_description.loc[ df_description['Table'] == 'bureau.csv' ].reset_index(drop = 1).head(50)"
   ]
  },
  {
   "cell_type": "code",
   "execution_count": 9,
   "metadata": {},
   "outputs": [
    {
     "data": {
      "text/html": [
       "<div>\n",
       "<style scoped>\n",
       "    .dataframe tbody tr th:only-of-type {\n",
       "        vertical-align: middle;\n",
       "    }\n",
       "\n",
       "    .dataframe tbody tr th {\n",
       "        vertical-align: top;\n",
       "    }\n",
       "\n",
       "    .dataframe thead th {\n",
       "        text-align: right;\n",
       "    }\n",
       "</style>\n",
       "<table border=\"1\" class=\"dataframe\">\n",
       "  <thead>\n",
       "    <tr style=\"text-align: right;\">\n",
       "      <th></th>\n",
       "      <th>Table</th>\n",
       "      <th>Row</th>\n",
       "      <th>Description</th>\n",
       "      <th>Special</th>\n",
       "    </tr>\n",
       "  </thead>\n",
       "  <tbody>\n",
       "    <tr>\n",
       "      <th>0</th>\n",
       "      <td>bureau_balance.csv</td>\n",
       "      <td>SK_BUREAU_ID</td>\n",
       "      <td>Recoded ID of Credit Bureau credit (unique coding for each application) - use this to join to CREDIT_BUREAU table</td>\n",
       "      <td>hashed</td>\n",
       "    </tr>\n",
       "    <tr>\n",
       "      <th>1</th>\n",
       "      <td>bureau_balance.csv</td>\n",
       "      <td>MONTHS_BALANCE</td>\n",
       "      <td>Month of balance relative to application date (-1 means the freshest balance date)</td>\n",
       "      <td>time only relative to the application</td>\n",
       "    </tr>\n",
       "    <tr>\n",
       "      <th>2</th>\n",
       "      <td>bureau_balance.csv</td>\n",
       "      <td>STATUS</td>\n",
       "      <td>Status of Credit Bureau loan during the month (active, closed, DPD0-30, [C means closed, X means status unknown, 0 means no DPD, 1 means maximal did during month between 1-30, 2 means DPD 31-60, 5 means DPD 120+ or sold or written off ] )</td>\n",
       "      <td>NaN</td>\n",
       "    </tr>\n",
       "  </tbody>\n",
       "</table>\n",
       "</div>"
      ],
      "text/plain": [
       "                Table             Row  \\\n",
       "0  bureau_balance.csv    SK_BUREAU_ID   \n",
       "1  bureau_balance.csv  MONTHS_BALANCE   \n",
       "2  bureau_balance.csv          STATUS   \n",
       "\n",
       "                                                                                                                                                                                                                                        Description  \\\n",
       "0                                                                                                                                Recoded ID of Credit Bureau credit (unique coding for each application) - use this to join to CREDIT_BUREAU table    \n",
       "1                                                                                                                                                                Month of balance relative to application date (-1 means the freshest balance date)   \n",
       "2  Status of Credit Bureau loan during the month (active, closed, DPD0-30,\n",
       " [C means closed, X means status unknown, 0 means no DPD, 1 means maximal did during month between 1-30, 2 means DPD 31-60,\n",
       " 5 means DPD 120+ or sold or written off ] )   \n",
       "\n",
       "                                 Special  \n",
       "0                                 hashed  \n",
       "1  time only relative to the application  \n",
       "2                                    NaN  "
      ]
     },
     "execution_count": 9,
     "metadata": {},
     "output_type": "execute_result"
    }
   ],
   "source": [
    "df_description.loc[ df_description['Table'] == 'bureau_balance.csv' ].reset_index(drop = 1).head(50)"
   ]
  },
  {
   "cell_type": "markdown",
   "metadata": {},
   "source": [
    "## 1.2 Data shape"
   ]
  },
  {
   "cell_type": "code",
   "execution_count": 10,
   "metadata": {},
   "outputs": [
    {
     "data": {
      "text/plain": [
       "(1716428, 17)"
      ]
     },
     "execution_count": 10,
     "metadata": {},
     "output_type": "execute_result"
    }
   ],
   "source": [
    "df1_bureau.shape"
   ]
  },
  {
   "cell_type": "code",
   "execution_count": 11,
   "metadata": {},
   "outputs": [
    {
     "data": {
      "text/plain": [
       "(27299925, 3)"
      ]
     },
     "execution_count": 11,
     "metadata": {},
     "output_type": "execute_result"
    }
   ],
   "source": [
    "df1_bureau_balance.shape"
   ]
  },
  {
   "cell_type": "markdown",
   "metadata": {},
   "source": [
    "## 1.3 Check NaN"
   ]
  },
  {
   "cell_type": "code",
   "execution_count": 12,
   "metadata": {},
   "outputs": [
    {
     "data": {
      "text/plain": [
       "SK_ID_CURR                      0\n",
       "SK_ID_BUREAU                    0\n",
       "CREDIT_ACTIVE                   0\n",
       "CREDIT_CURRENCY                 0\n",
       "DAYS_CREDIT                     0\n",
       "CREDIT_DAY_OVERDUE              0\n",
       "DAYS_CREDIT_ENDDATE        105553\n",
       "DAYS_ENDDATE_FACT          633653\n",
       "AMT_CREDIT_MAX_OVERDUE    1124488\n",
       "CNT_CREDIT_PROLONG              0\n",
       "AMT_CREDIT_SUM                 13\n",
       "AMT_CREDIT_SUM_DEBT        257669\n",
       "AMT_CREDIT_SUM_LIMIT       591780\n",
       "AMT_CREDIT_SUM_OVERDUE          0\n",
       "CREDIT_TYPE                     0\n",
       "DAYS_CREDIT_UPDATE              0\n",
       "AMT_ANNUITY               1226791\n",
       "dtype: int64"
      ]
     },
     "execution_count": 12,
     "metadata": {},
     "output_type": "execute_result"
    }
   ],
   "source": [
    "df1_bureau.isna().sum()"
   ]
  },
  {
   "cell_type": "code",
   "execution_count": 13,
   "metadata": {},
   "outputs": [
    {
     "data": {
      "text/plain": [
       "SK_ID_BUREAU      0\n",
       "MONTHS_BALANCE    0\n",
       "STATUS            0\n",
       "dtype: int64"
      ]
     },
     "execution_count": 13,
     "metadata": {},
     "output_type": "execute_result"
    }
   ],
   "source": [
    "df1_bureau_balance.isna().sum()"
   ]
  },
  {
   "cell_type": "markdown",
   "metadata": {},
   "source": [
    "## 1.4 Describe"
   ]
  },
  {
   "cell_type": "code",
   "execution_count": 14,
   "metadata": {},
   "outputs": [
    {
     "data": {
      "text/html": [
       "<div>\n",
       "<style scoped>\n",
       "    .dataframe tbody tr th:only-of-type {\n",
       "        vertical-align: middle;\n",
       "    }\n",
       "\n",
       "    .dataframe tbody tr th {\n",
       "        vertical-align: top;\n",
       "    }\n",
       "\n",
       "    .dataframe thead th {\n",
       "        text-align: right;\n",
       "    }\n",
       "</style>\n",
       "<table border=\"1\" class=\"dataframe\">\n",
       "  <thead>\n",
       "    <tr style=\"text-align: right;\">\n",
       "      <th></th>\n",
       "      <th>SK_ID_CURR</th>\n",
       "      <th>SK_ID_BUREAU</th>\n",
       "      <th>DAYS_CREDIT</th>\n",
       "      <th>CREDIT_DAY_OVERDUE</th>\n",
       "      <th>DAYS_CREDIT_ENDDATE</th>\n",
       "      <th>DAYS_ENDDATE_FACT</th>\n",
       "      <th>AMT_CREDIT_MAX_OVERDUE</th>\n",
       "      <th>CNT_CREDIT_PROLONG</th>\n",
       "      <th>AMT_CREDIT_SUM</th>\n",
       "      <th>AMT_CREDIT_SUM_DEBT</th>\n",
       "      <th>AMT_CREDIT_SUM_LIMIT</th>\n",
       "      <th>AMT_CREDIT_SUM_OVERDUE</th>\n",
       "      <th>DAYS_CREDIT_UPDATE</th>\n",
       "      <th>AMT_ANNUITY</th>\n",
       "    </tr>\n",
       "  </thead>\n",
       "  <tbody>\n",
       "    <tr>\n",
       "      <th>count</th>\n",
       "      <td>1.716428e+06</td>\n",
       "      <td>1.716428e+06</td>\n",
       "      <td>1.716428e+06</td>\n",
       "      <td>1.716428e+06</td>\n",
       "      <td>1.610875e+06</td>\n",
       "      <td>1.082775e+06</td>\n",
       "      <td>5.919400e+05</td>\n",
       "      <td>1.716428e+06</td>\n",
       "      <td>1.716415e+06</td>\n",
       "      <td>1.458759e+06</td>\n",
       "      <td>1.124648e+06</td>\n",
       "      <td>1.716428e+06</td>\n",
       "      <td>1.716428e+06</td>\n",
       "      <td>4.896370e+05</td>\n",
       "    </tr>\n",
       "    <tr>\n",
       "      <th>mean</th>\n",
       "      <td>2.782149e+05</td>\n",
       "      <td>5.924434e+06</td>\n",
       "      <td>-1.142108e+03</td>\n",
       "      <td>8.181666e-01</td>\n",
       "      <td>5.105174e+02</td>\n",
       "      <td>-1.017437e+03</td>\n",
       "      <td>3.825418e+03</td>\n",
       "      <td>6.410406e-03</td>\n",
       "      <td>3.549946e+05</td>\n",
       "      <td>1.370851e+05</td>\n",
       "      <td>6.229515e+03</td>\n",
       "      <td>3.791276e+01</td>\n",
       "      <td>-5.937483e+02</td>\n",
       "      <td>1.571276e+04</td>\n",
       "    </tr>\n",
       "    <tr>\n",
       "      <th>std</th>\n",
       "      <td>1.029386e+05</td>\n",
       "      <td>5.322657e+05</td>\n",
       "      <td>7.951649e+02</td>\n",
       "      <td>3.654443e+01</td>\n",
       "      <td>4.994220e+03</td>\n",
       "      <td>7.140106e+02</td>\n",
       "      <td>2.060316e+05</td>\n",
       "      <td>9.622391e-02</td>\n",
       "      <td>1.149811e+06</td>\n",
       "      <td>6.774011e+05</td>\n",
       "      <td>4.503203e+04</td>\n",
       "      <td>5.937650e+03</td>\n",
       "      <td>7.207473e+02</td>\n",
       "      <td>3.258269e+05</td>\n",
       "    </tr>\n",
       "    <tr>\n",
       "      <th>min</th>\n",
       "      <td>1.000010e+05</td>\n",
       "      <td>5.000000e+06</td>\n",
       "      <td>-2.922000e+03</td>\n",
       "      <td>0.000000e+00</td>\n",
       "      <td>-4.206000e+04</td>\n",
       "      <td>-4.202300e+04</td>\n",
       "      <td>0.000000e+00</td>\n",
       "      <td>0.000000e+00</td>\n",
       "      <td>0.000000e+00</td>\n",
       "      <td>-4.705600e+06</td>\n",
       "      <td>-5.864061e+05</td>\n",
       "      <td>0.000000e+00</td>\n",
       "      <td>-4.194700e+04</td>\n",
       "      <td>0.000000e+00</td>\n",
       "    </tr>\n",
       "    <tr>\n",
       "      <th>25%</th>\n",
       "      <td>1.888668e+05</td>\n",
       "      <td>5.463954e+06</td>\n",
       "      <td>-1.666000e+03</td>\n",
       "      <td>0.000000e+00</td>\n",
       "      <td>-1.138000e+03</td>\n",
       "      <td>-1.489000e+03</td>\n",
       "      <td>0.000000e+00</td>\n",
       "      <td>0.000000e+00</td>\n",
       "      <td>5.130000e+04</td>\n",
       "      <td>0.000000e+00</td>\n",
       "      <td>0.000000e+00</td>\n",
       "      <td>0.000000e+00</td>\n",
       "      <td>-9.080000e+02</td>\n",
       "      <td>0.000000e+00</td>\n",
       "    </tr>\n",
       "    <tr>\n",
       "      <th>50%</th>\n",
       "      <td>2.780550e+05</td>\n",
       "      <td>5.926304e+06</td>\n",
       "      <td>-9.870000e+02</td>\n",
       "      <td>0.000000e+00</td>\n",
       "      <td>-3.300000e+02</td>\n",
       "      <td>-8.970000e+02</td>\n",
       "      <td>0.000000e+00</td>\n",
       "      <td>0.000000e+00</td>\n",
       "      <td>1.255185e+05</td>\n",
       "      <td>0.000000e+00</td>\n",
       "      <td>0.000000e+00</td>\n",
       "      <td>0.000000e+00</td>\n",
       "      <td>-3.950000e+02</td>\n",
       "      <td>0.000000e+00</td>\n",
       "    </tr>\n",
       "    <tr>\n",
       "      <th>75%</th>\n",
       "      <td>3.674260e+05</td>\n",
       "      <td>6.385681e+06</td>\n",
       "      <td>-4.740000e+02</td>\n",
       "      <td>0.000000e+00</td>\n",
       "      <td>4.740000e+02</td>\n",
       "      <td>-4.250000e+02</td>\n",
       "      <td>0.000000e+00</td>\n",
       "      <td>0.000000e+00</td>\n",
       "      <td>3.150000e+05</td>\n",
       "      <td>4.015350e+04</td>\n",
       "      <td>0.000000e+00</td>\n",
       "      <td>0.000000e+00</td>\n",
       "      <td>-3.300000e+01</td>\n",
       "      <td>1.350000e+04</td>\n",
       "    </tr>\n",
       "    <tr>\n",
       "      <th>max</th>\n",
       "      <td>4.562550e+05</td>\n",
       "      <td>6.843457e+06</td>\n",
       "      <td>0.000000e+00</td>\n",
       "      <td>2.792000e+03</td>\n",
       "      <td>3.119900e+04</td>\n",
       "      <td>0.000000e+00</td>\n",
       "      <td>1.159872e+08</td>\n",
       "      <td>9.000000e+00</td>\n",
       "      <td>5.850000e+08</td>\n",
       "      <td>1.701000e+08</td>\n",
       "      <td>4.705600e+06</td>\n",
       "      <td>3.756681e+06</td>\n",
       "      <td>3.720000e+02</td>\n",
       "      <td>1.184534e+08</td>\n",
       "    </tr>\n",
       "  </tbody>\n",
       "</table>\n",
       "</div>"
      ],
      "text/plain": [
       "         SK_ID_CURR  SK_ID_BUREAU   DAYS_CREDIT  CREDIT_DAY_OVERDUE  \\\n",
       "count  1.716428e+06  1.716428e+06  1.716428e+06        1.716428e+06   \n",
       "mean   2.782149e+05  5.924434e+06 -1.142108e+03        8.181666e-01   \n",
       "std    1.029386e+05  5.322657e+05  7.951649e+02        3.654443e+01   \n",
       "min    1.000010e+05  5.000000e+06 -2.922000e+03        0.000000e+00   \n",
       "25%    1.888668e+05  5.463954e+06 -1.666000e+03        0.000000e+00   \n",
       "50%    2.780550e+05  5.926304e+06 -9.870000e+02        0.000000e+00   \n",
       "75%    3.674260e+05  6.385681e+06 -4.740000e+02        0.000000e+00   \n",
       "max    4.562550e+05  6.843457e+06  0.000000e+00        2.792000e+03   \n",
       "\n",
       "       DAYS_CREDIT_ENDDATE  DAYS_ENDDATE_FACT  AMT_CREDIT_MAX_OVERDUE  \\\n",
       "count         1.610875e+06       1.082775e+06            5.919400e+05   \n",
       "mean          5.105174e+02      -1.017437e+03            3.825418e+03   \n",
       "std           4.994220e+03       7.140106e+02            2.060316e+05   \n",
       "min          -4.206000e+04      -4.202300e+04            0.000000e+00   \n",
       "25%          -1.138000e+03      -1.489000e+03            0.000000e+00   \n",
       "50%          -3.300000e+02      -8.970000e+02            0.000000e+00   \n",
       "75%           4.740000e+02      -4.250000e+02            0.000000e+00   \n",
       "max           3.119900e+04       0.000000e+00            1.159872e+08   \n",
       "\n",
       "       CNT_CREDIT_PROLONG  AMT_CREDIT_SUM  AMT_CREDIT_SUM_DEBT  \\\n",
       "count        1.716428e+06    1.716415e+06         1.458759e+06   \n",
       "mean         6.410406e-03    3.549946e+05         1.370851e+05   \n",
       "std          9.622391e-02    1.149811e+06         6.774011e+05   \n",
       "min          0.000000e+00    0.000000e+00        -4.705600e+06   \n",
       "25%          0.000000e+00    5.130000e+04         0.000000e+00   \n",
       "50%          0.000000e+00    1.255185e+05         0.000000e+00   \n",
       "75%          0.000000e+00    3.150000e+05         4.015350e+04   \n",
       "max          9.000000e+00    5.850000e+08         1.701000e+08   \n",
       "\n",
       "       AMT_CREDIT_SUM_LIMIT  AMT_CREDIT_SUM_OVERDUE  DAYS_CREDIT_UPDATE  \\\n",
       "count          1.124648e+06            1.716428e+06        1.716428e+06   \n",
       "mean           6.229515e+03            3.791276e+01       -5.937483e+02   \n",
       "std            4.503203e+04            5.937650e+03        7.207473e+02   \n",
       "min           -5.864061e+05            0.000000e+00       -4.194700e+04   \n",
       "25%            0.000000e+00            0.000000e+00       -9.080000e+02   \n",
       "50%            0.000000e+00            0.000000e+00       -3.950000e+02   \n",
       "75%            0.000000e+00            0.000000e+00       -3.300000e+01   \n",
       "max            4.705600e+06            3.756681e+06        3.720000e+02   \n",
       "\n",
       "        AMT_ANNUITY  \n",
       "count  4.896370e+05  \n",
       "mean   1.571276e+04  \n",
       "std    3.258269e+05  \n",
       "min    0.000000e+00  \n",
       "25%    0.000000e+00  \n",
       "50%    0.000000e+00  \n",
       "75%    1.350000e+04  \n",
       "max    1.184534e+08  "
      ]
     },
     "execution_count": 14,
     "metadata": {},
     "output_type": "execute_result"
    }
   ],
   "source": [
    "df1_bureau.describe()"
   ]
  },
  {
   "cell_type": "markdown",
   "metadata": {},
   "source": [
    "# 2.0 Feature Engineering"
   ]
  },
  {
   "cell_type": "code",
   "execution_count": 15,
   "metadata": {},
   "outputs": [],
   "source": [
    "df2_bureau = df1_bureau.copy()\n",
    "df2_bureau_balance = df1_bureau_balance.copy()"
   ]
  },
  {
   "attachments": {
    "image.png": {
     "image/png": "[encoded data removed]"
    }
   },
   "cell_type": "markdown",
   "metadata": {},
   "source": [
    "![image.png](attachment:image.png)"
   ]
  },
  {
   "cell_type": "markdown",
   "metadata": {},
   "source": [
    "The features and EDA of bureau will be developed taking into consideration the business assumptions"
   ]
  },
  {
   "cell_type": "code",
   "execution_count": 16,
   "metadata": {},
   "outputs": [
    {
     "data": {
      "text/plain": [
       "Index(['SK_ID_CURR', 'SK_ID_BUREAU', 'CREDIT_ACTIVE', 'CREDIT_CURRENCY',\n",
       "       'DAYS_CREDIT', 'CREDIT_DAY_OVERDUE', 'DAYS_CREDIT_ENDDATE',\n",
       "       'DAYS_ENDDATE_FACT', 'AMT_CREDIT_MAX_OVERDUE', 'CNT_CREDIT_PROLONG',\n",
       "       'AMT_CREDIT_SUM', 'AMT_CREDIT_SUM_DEBT', 'AMT_CREDIT_SUM_LIMIT',\n",
       "       'AMT_CREDIT_SUM_OVERDUE', 'CREDIT_TYPE', 'DAYS_CREDIT_UPDATE',\n",
       "       'AMT_ANNUITY'],\n",
       "      dtype='object')"
      ]
     },
     "execution_count": 16,
     "metadata": {},
     "output_type": "execute_result"
    }
   ],
   "source": [
    "df2_bureau.columns"
   ]
  },
  {
   "cell_type": "code",
   "execution_count": 17,
   "metadata": {},
   "outputs": [
    {
     "data": {
      "text/plain": [
       "Index(['SK_ID_BUREAU', 'MONTHS_BALANCE', 'STATUS'], dtype='object')"
      ]
     },
     "execution_count": 17,
     "metadata": {},
     "output_type": "execute_result"
    }
   ],
   "source": [
    "df2_bureau_balance.columns"
   ]
  },
  {
   "cell_type": "code",
   "execution_count": 18,
   "metadata": {},
   "outputs": [
    {
     "data": {
      "text/plain": [
       "array(['C', '0', 'X', '1', '2', '3', '5', '4'], dtype=object)"
      ]
     },
     "execution_count": 18,
     "metadata": {},
     "output_type": "execute_result"
    }
   ],
   "source": [
    "df2_bureau_balance['STATUS'].unique()"
   ]
  },
  {
   "cell_type": "code",
   "execution_count": 19,
   "metadata": {},
   "outputs": [],
   "source": [
    "def bureau_balance_feature_engineering(df_cleaned):\n",
    "\n",
    "    df_featured = df_cleaned.copy()\n",
    "\n",
    "    df_featured = df_featured.sort_values(['SK_ID_BUREAU','MONTHS_BALANCE'], ascending = [True,False])\n",
    "\n",
    "    df_featured['STATUS_DPD_60_B'] = df_featured['STATUS'].apply(lambda x: 1 if x in ['3','4','5'] else 0) \n",
    "     \n",
    "    df_featured = df_featured.groupby(['SK_ID_BUREAU']).agg(LAST_STATUS_DPD_60_B = ('STATUS_DPD_60_B','max'),\n",
    "                                                            LAST_STATUS_B = ('STATUS','last')\n",
    "                                                                         ).reset_index()\n",
    "\n",
    " \n",
    "    return df_featured\n"
   ]
  },
  {
   "cell_type": "code",
   "execution_count": 20,
   "metadata": {},
   "outputs": [],
   "source": [
    "def bureau_feature_engineering(df_bureau, df_featured_bureau_balance):\n",
    "\n",
    "    df_merged = pd.merge(df_bureau, df_featured_bureau_balance, how = 'left', on = 'SK_ID_BUREAU')\n",
    "\n",
    "    # Count of credit types\n",
    "    df_featured = df_merged.groupby(['SK_ID_CURR']).agg(\n",
    "                                                          CREDIT_TYPE_COUNT_B = ('CREDIT_TYPE','count'),\n",
    "                                                          LAST_CREDIT_TYPE_B = ('CREDIT_TYPE','last'),\n",
    "                                                          DAYS_SINCE_ENDED_B = ('DAYS_ENDDATE_FACT','last'),\n",
    "                                                          DAYS_TO_END_B = ('DAYS_CREDIT_ENDDATE','last'),\n",
    "                                                          LAST_STATUS_DPD_60_B = ('LAST_STATUS_DPD_60_B','max'),\n",
    "                                                          LAST_STATUS_B = ('LAST_STATUS_B','last')\n",
    "                                                          ).reset_index()\n",
    "    \n",
    "    return df_featured\n"
   ]
  },
  {
   "cell_type": "code",
   "execution_count": 21,
   "metadata": {},
   "outputs": [],
   "source": [
    "def join_train_installments(df_train, df_installments):\n",
    "\n",
    "    df_train = df_train[['SK_ID_CURR','TARGET']]\n",
    "\n",
    "    df_merged = df_train.merge(df_installments, on = 'SK_ID_CURR', how = 'left', validate = 'one_to_one')\n",
    "\n",
    "    return df_merged"
   ]
  },
  {
   "cell_type": "code",
   "execution_count": 22,
   "metadata": {},
   "outputs": [],
   "source": [
    "def feature_analysis(df_final):\n",
    "\n",
    "    df_analysis = df_final.copy()\n",
    "\n",
    "    for col in df_analysis.select_dtypes('number').columns:\n",
    "        if col not in ['SK_ID_CURR','TARGET']:\t\n",
    "            col_name = f'{col}_q'\n",
    "            df_analysis[col_name] = pd.qcut(df_analysis[col], q = 4, duplicates='drop',labels=False)\n",
    "            df_analysis.groupby(col_name)['TARGET'].mean().plot()\n",
    "            plt.axhline(df_analysis['TARGET'].mean(), color = 'red', linestyle = '--')\n",
    "            plt.ylim(bottom =0)\n",
    "            plt.title(col)\n",
    "            plt.show()\n"
   ]
  },
  {
   "cell_type": "code",
   "execution_count": 23,
   "metadata": {},
   "outputs": [],
   "source": [
    "df_featured_bureau_balance = bureau_balance_feature_engineering(df2_bureau_balance)"
   ]
  },
  {
   "cell_type": "code",
   "execution_count": 24,
   "metadata": {},
   "outputs": [],
   "source": [
    "df_featured_bureau = bureau_feature_engineering(df2_bureau, df_featured_bureau_balance)"
   ]
  },
  {
   "cell_type": "code",
   "execution_count": 25,
   "metadata": {},
   "outputs": [
    {
     "data": {
      "text/plain": [
       "(817395, 3)"
      ]
     },
     "execution_count": 25,
     "metadata": {},
     "output_type": "execute_result"
    }
   ],
   "source": [
    "df_featured_bureau_balance.shape"
   ]
  },
  {
   "cell_type": "code",
   "execution_count": 26,
   "metadata": {},
   "outputs": [
    {
     "data": {
      "text/plain": [
       "(305811, 7)"
      ]
     },
     "execution_count": 26,
     "metadata": {},
     "output_type": "execute_result"
    }
   ],
   "source": [
    "df_featured_bureau.shape"
   ]
  },
  {
   "cell_type": "code",
   "execution_count": 27,
   "metadata": {},
   "outputs": [],
   "source": [
    "df_final = join_train_installments(df_train, df_featured_bureau)"
   ]
  },
  {
   "cell_type": "code",
   "execution_count": 28,
   "metadata": {},
   "outputs": [
    {
     "data": {
      "image/png": "[encoded data removed]",
      "text/plain": [
       "<Figure size 640x480 with 1 Axes>"
      ]
     },
     "metadata": {},
     "output_type": "display_data"
    },
    {
     "data": {
      "image/png": "[encoded data removed]",
      "text/plain": [
       "<Figure size 640x480 with 1 Axes>"
      ]
     },
     "metadata": {},
     "output_type": "display_data"
    },
    {
     "data": {
      "image/png": "[encoded data removed]",
      "text/plain": [
       "<Figure size 640x480 with 1 Axes>"
      ]
     },
     "metadata": {},
     "output_type": "display_data"
    },
    {
     "data": {
      "image/png": "[encoded data removed]",
      "text/plain": [
       "<Figure size 640x480 with 1 Axes>"
      ]
     },
     "metadata": {},
     "output_type": "display_data"
    }
   ],
   "source": [
    "feature_analysis(df_final)"
   ]
  },
  {
   "cell_type": "code",
   "execution_count": 29,
   "metadata": {},
   "outputs": [],
   "source": [
    "df_featured_bureau.to_parquet('../../projeto/data_featured/bureau.parquet')"
   ]
  }
 ],
 "metadata": {
  "kernelspec": {
   "display_name": ".venv",
   "language": "python",
   "name": "python3"
  },
  "language_info": {
   "codemirror_mode": {
    "name": "ipython",
    "version": 3
   },
   "file_extension": ".py",
   "mimetype": "text/x-python",
   "name": "python",
   "nbconvert_exporter": "python",
   "pygments_lexer": "ipython3",
   "version": "3.11.9"
  }
 },
 "nbformat": 4,
 "nbformat_minor": 2
}
