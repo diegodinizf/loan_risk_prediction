{
 "cells": [
  {
   "cell_type": "code",
   "execution_count": 1,
   "metadata": {},
   "outputs": [],
   "source": [
    "import pandas as pd"
   ]
  },
  {
   "cell_type": "code",
   "execution_count": 8,
   "metadata": {},
   "outputs": [],
   "source": [
    "def import_data(file_name):\n",
    "\n",
    "    path = '../../projeto/data/featured/' + file_name\n",
    "    # Import data from parquet file\n",
    "    data = pd.read_parquet(path)\n",
    "\n",
    "    return data"
   ]
  },
  {
   "cell_type": "code",
   "execution_count": 9,
   "metadata": {},
   "outputs": [],
   "source": [
    "def join_datasets(path_train = '../../projeto/data/raw/application_train.csv'):\n",
    "\n",
    "    # Import data from parquet file\n",
    "    train = pd.read_csv(path_train)\n",
    "    data = pd.DataFrame()\n",
    "    data['SK_ID_CURR'] = train['SK_ID_CURR']\n",
    "\n",
    "    # Join datasets\n",
    "    for file_name in ['bureau.parquet', 'credit_card_balance.parquet', 'inStallments_payments.parquet', 'pos_cash.parquet', 'previous_application.parquet']:\n",
    "        data_imported = import_data(file_name)\n",
    "        data = data.merge(data_imported, on='SK_ID_CURR', how='left', validate='one_to_one')\n",
    "\n",
    "    data = train.merge(data)\n",
    "\n",
    "    return data\n"
   ]
  },
  {
   "cell_type": "code",
   "execution_count": 10,
   "metadata": {},
   "outputs": [],
   "source": [
    "df = join_datasets()"
   ]
  },
  {
   "cell_type": "code",
   "execution_count": 15,
   "metadata": {},
   "outputs": [],
   "source": [
    "df.to_parquet('../../projeto/data/featured/data_featured.parquet') "
   ]
  },
  {
   "cell_type": "code",
   "execution_count": 16,
   "metadata": {},
   "outputs": [
    {
     "data": {
      "text/plain": [
       "count    290830.000000\n",
       "mean          0.968752\n",
       "std           0.170634\n",
       "min           0.000000\n",
       "25%           0.907193\n",
       "50%           0.971511\n",
       "75%           1.026570\n",
       "max           5.467110\n",
       "Name: ACCEPTED_CREDICT_PA, dtype: float64"
      ]
     },
     "execution_count": 16,
     "metadata": {},
     "output_type": "execute_result"
    }
   ],
   "source": [
    "df.describe()['ACCEPTED_CREDICT_PA']"
   ]
  }
 ],
 "metadata": {
  "kernelspec": {
   "display_name": ".venv",
   "language": "python",
   "name": "python3"
  },
  "language_info": {
   "codemirror_mode": {
    "name": "ipython",
    "version": 3
   },
   "file_extension": ".py",
   "mimetype": "text/x-python",
   "name": "python",
   "nbconvert_exporter": "python",
   "pygments_lexer": "ipython3",
   "version": "3.11.9"
  }
 },
 "nbformat": 4,
 "nbformat_minor": 2
}
